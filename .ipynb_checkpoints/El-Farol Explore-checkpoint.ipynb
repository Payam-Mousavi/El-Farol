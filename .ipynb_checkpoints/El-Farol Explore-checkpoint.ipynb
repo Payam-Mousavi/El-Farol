{
 "cells": [
  {
   "cell_type": "code",
   "execution_count": 1,
   "metadata": {},
   "outputs": [],
   "source": [
    "import numpy as np\n",
    "import matplotlib.pyplot as plt\n",
    "import random\n",
    "import collections"
   ]
  },
  {
   "cell_type": "code",
   "execution_count": 13,
   "metadata": {},
   "outputs": [],
   "source": [
    "class El_Farol_env:\n",
    "    def __init__(self, NUM_AGENTS = 100, M = 5, N = 20, THR = 60, SEED=42):\n",
    "        np.random.seed(SEED)\n",
    "        self. num_agents = NUM_AGENTS # Number of agents\n",
    "        self.M = M # Number of weeks to remember (memory)\n",
    "        self.N = N # Number of strategies per agent\n",
    "        self.THR = THR # Occupancy threshold\n",
    "        \n",
    "        assert self.num_agents > self.THR, \"Number of agents must be larger than attendance threshold!\"\n",
    "        \n",
    "        # Initialize random decision weights for all players\n",
    "        self.weight_mat = np.random.uniform(-1, 1, (self.num_agents, self.N, self.M + 1))\n",
    "        \n",
    "        # Initialize 2*M random instances of weeks of attendance\n",
    "        self.A_M = collections.deque(maxlen = 2*self.M)\n",
    "        for i in range(2*self.M):\n",
    "            self.A_M.append(np.random.randint(0, self.num_agents-1))\n",
    "        \n",
    "        # Initialize the current time step's attendance: \n",
    "        self.A_t = np.random.randint(0, self.num_agents-1)\n",
    "    \n",
    "    def make_decision(self, w_vec, A_vec, s_ind=None):\n",
    "        '''\n",
    "        # Decision making for one agent:\n",
    "        # Inputs:\n",
    "        #       w_vec: [N x M+1] - Initialized weight vectors (and bias) for one agent's strategies \n",
    "        #       A_vec: [2M x 1] - Attendance for the last 2*M steps (Cirular buffer)\n",
    "        #       s_ind: Index {0,N} of the previous best decision strategy, if None, estimate based on memory\n",
    "        # Outputs:\n",
    "        #       d: [False, True] ~ [DON'T GO, GO]\n",
    "        #       S_guess: Scalar - Estimated number of attendees for current time step (mostly used for troubleshooting)\n",
    "        '''\n",
    "        S = np.zeros((self.N, self.M+1))\n",
    "        E = np.zeros(self.N)\n",
    "        \n",
    "        for i in range(self.N):\n",
    "            for j in range(self.M+1):\n",
    "                S[i,j] = 100 * (np.dot(w_vec[i,:-1], np.array(A_vec)[self.M-j:2*self.M-j]) + w_vec[i,-1])\n",
    "               \n",
    "        if s_ind is None: # Initial time step\n",
    "            # Select a random strategy on the initial step\n",
    "            s_ind = np.random.choice(self.N)\n",
    "            \n",
    "        S_guess = S[s_ind, 0] # Select the estimate (j=0) for current step\n",
    "        \n",
    "        # Make Decision:\n",
    "        if S_guess <= self.THR: \n",
    "            d = True # GO\n",
    "        else: \n",
    "            d = False # DON'T GO\n",
    "    \n",
    "        return S, E, d, S_guess\n",
    "         \n",
    "    \n",
    "    def update_s_star(self, w_vec, A_vec, A_t):\n",
    "        '''\n",
    "        # Decision making for one agent:\n",
    "        # Inputs:\n",
    "        #       w_vec: [N x M+1] - Initialized weight vectors (and bias) for one agent's strategies \n",
    "        #       A_vec: [M x 1] - Attendance for the last 2*M steps (Cirular buffer)\n",
    "        #       A_t: Current time step's attendance\n",
    "        # Outputs:\n",
    "        #       s_ind: Scalar integer: New optimum strategy for the agent\n",
    "        #       S_guess: New estimated number of attendees (mostly used for troubleshooting)\n",
    "        '''\n",
    "        S = np.zeros((self.N, self.M+1))\n",
    "        E = np.zeros(self.N)\n",
    "        \n",
    "        #TODO: FIX this so we don't have to calcualte S[i,j] in both make_decision and update_s_star\n",
    "        for i in range(self.N):\n",
    "            for j in range(self.M+1):\n",
    "                S[i,j] = 100 * (np.dot(w_vec[i,:-1], np.array(A_vec)[self.M-j:2*self.M-j]) + w_vec[i,-1])\n",
    "        \n",
    "        for i in range(self.N):\n",
    "            E[i] = np.abs(S[i,:] - np.append(np.array(A_vec)[self.M:], A_t)).sum()\n",
    "        \n",
    "        s_ind = np.argmin(E).astype(int)\n",
    "        S_guess = S[s_ind]\n",
    "        \n",
    "        return s_ind, S_guess\n",
    "        \n",
    "        \n",
    "    def take_steps(self, num_steps=100):\n",
    "        '''\n",
    "            Simulate multiple weeks of events and decisions\n",
    "            Inputs:\n",
    "                num_steps: Scalar integer - number of weeks to simulate\n",
    "        '''\n",
    "        s_star = np.zeros((self.num_agents, 1)).astype(int)\n",
    "        S_guessed = np.zeros((self.num_agents, 1))\n",
    "        agents_performance = np.zeros((self.num_agents, 1))\n",
    "        A_ts = np.zeros((num_steps, 1)) # Actual number of attendees\n",
    "        d = np.zeros((self.num_agents, 1)).astype(bool) # Decisions: True > Go, False > Don't Go\n",
    "        \n",
    "        # Iterating for desired number of steps:\n",
    "        for step_i in range(num_steps):\n",
    "            # Iterating for each agent:\n",
    "            for agent_j in range(self.num_agents):\n",
    "                w_vec = np.squeeze(self.weight_mat[agent_j,:,:])\n",
    "                A_vec = self.A_M\n",
    "                if step_i == 0: # Initial step \n",
    "                    s_ind = None\n",
    "                else:\n",
    "                    s_ind = s_star[agent_j]\n",
    "                # Make decision:\n",
    "                _, _, d[agent_j], S_guessed[agent_j] = self.make_decision(w_vec=w_vec, A_vec=A_vec, s_ind=s_ind)\n",
    "                \n",
    "            # Calculate A_t\n",
    "            A_t = d.sum().astype(int) # Number of agents who decided to go\n",
    "            A_ts[step_i] = A_t\n",
    "            \n",
    "            # Update S_star for each agent - based on observed A_t\n",
    "            for agent_j in range(self.num_agents):\n",
    "                w_vec = np.squeeze(self.weight_mat[agent_j,:,:])\n",
    "                A_vec = self.A_M\n",
    "                s_star[agent_j], _ = self.update_s_star(w_vec=w_vec, A_vec=A_vec, A_t=A_t)\n",
    "                # Estimate performance of each agent\n",
    "                if (S_guessed[agent_j] <= self.THR) and (d[agent_j] == True): # Correct decision was made\n",
    "                    agents_performance[agent_j] += 1\n",
    "            \n",
    "            # Update circular A_M buffer:\n",
    "            self.A_M.append(A_t)\n",
    "            \n",
    "        # What do we want the function to retun?\n",
    "        return A_ts, agents_performance "
   ]
  },
  {
   "cell_type": "code",
   "execution_count": null,
   "metadata": {},
   "outputs": [],
   "source": []
  },
  {
   "cell_type": "code",
   "execution_count": 14,
   "metadata": {},
   "outputs": [],
   "source": [
    "# Testing the full environment:\n",
    "# env = El_Farol_env(NUM_AGENTS=100, M=5, N=10, THR = 60, SEED=42)\n",
    "# A_ts, agents_performance = env.take_steps(num_steps=100)"
   ]
  },
  {
   "cell_type": "code",
   "execution_count": 15,
   "metadata": {
    "scrolled": true
   },
   "outputs": [],
   "source": [
    "# Debugging taking steps:\n",
    "env = El_Farol_env(NUM_AGENTS=100, M=5, N=10, THR = 60, SEED=402)\n",
    "A_ts, agents_performance = env.take_steps(num_steps=100)"
   ]
  },
  {
   "cell_type": "code",
   "execution_count": 16,
   "metadata": {},
   "outputs": [
    {
     "name": "stdout",
     "output_type": "stream",
     "text": [
      "Average Attendance: 44.22\n"
     ]
    },
    {
     "data": {
      "image/png": "[encoded data removed]",
      "text/plain": [
       "<Figure size 432x288 with 1 Axes>"
      ]
     },
     "metadata": {
      "needs_background": "light"
     },
     "output_type": "display_data"
    }
   ],
   "source": [
    "plt.plot(A_ts, '-o')\n",
    "print(\"Average Attendance:\", A_ts.mean())"
   ]
  },
  {
   "cell_type": "code",
   "execution_count": null,
   "metadata": {},
   "outputs": [],
   "source": [
    "# Debugging #2:\n",
    "M = 3\n",
    "N = 2\n",
    "env = El_Farol_env(NUM_AGENTS=100, M=M, N=N, THR = 60, SEED=402)\n",
    "w_vec = env.weight_mat[0,:,:]\n",
    "A_vec = env.A_M\n",
    "\n",
    "S, E, d, S_guess = env.make_decision(w_vec=w_vec, A_vec=A_vec, s_ind=None)\n",
    "\n",
    "S.shape\n",
    "print(\"S: \", S)\n",
    "print('E: ', E)\n",
    "print('S_guess: ', S_guess)\n",
    "print('Decision: ', d)\n",
    "print(' ')\n",
    "\n",
    "env.update_s_star(w_vec=w_vec, A_vec=A_vec, A_t=45)\n",
    "\n",
    "A_ts, agents_performance = env.take_steps(num_steps=5)"
   ]
  },
  {
   "cell_type": "code",
   "execution_count": null,
   "metadata": {},
   "outputs": [],
   "source": [
    "# Debugging #1:\n",
    "env = El_Farol_env(NUM_AGENTS=100, M=3, N=2, THR = 60, SEED=42)\n",
    "\n",
    "w_vec = env.weight_mat[1,:,:]\n",
    "A_vec = env.A_M\n",
    "\n",
    "S = np.zeros(env.N)\n",
    "E = np.zeros(env.N)\n",
    "for i in range(env.N):\n",
    "    S[i] = 100 * (np.dot(w_vec[i,:-1], A_vec) + w_vec[i,-1])\n",
    "    E[i] = (np.abs(S[i] - np.array(A_vec))).sum()\n",
    "\n",
    "print('W: ', w_vec)\n",
    "print('A:', A_vec)\n",
    "print('S:', S)\n",
    "print('E:', E)\n",
    "\n",
    "# print(env.weight_mat.shape)\n",
    "# print(env.weight_mat[0,:,:].shape)\n",
    "# print(np.squeeze(env.weight_mat[3,:,:]).shape)\n",
    "# print(\"wvec [agent_0] = \", np.squeeze(env.weight_mat[0,:,:]))"
   ]
  }
 ],
 "metadata": {
  "kernelspec": {
   "display_name": "Python 3",
   "language": "python",
   "name": "python3"
  },
  "language_info": {
   "codemirror_mode": {
    "name": "ipython",
    "version": 3
   },
   "file_extension": ".py",
   "mimetype": "text/x-python",
   "name": "python",
   "nbconvert_exporter": "python",
   "pygments_lexer": "ipython3",
   "version": "3.7.7"
  }
 },
 "nbformat": 4,
 "nbformat_minor": 4
}
