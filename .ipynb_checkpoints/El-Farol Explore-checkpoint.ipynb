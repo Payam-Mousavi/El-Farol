{
 "cells": [
  {
   "cell_type": "code",
   "execution_count": 1,
   "metadata": {},
   "outputs": [],
   "source": [
    "import numpy as np\n",
    "import matplotlib.pyplot as plt\n",
    "import random"
   ]
  },
  {
   "cell_type": "code",
   "execution_count": 71,
   "metadata": {},
   "outputs": [],
   "source": [
    "class El_Farol_env:\n",
    "    def __init__(self, NUM_AGENTS = 100, M = 5, N = 10, THR = 60, SEED=123):\n",
    "        np.random.seed(SEED)\n",
    "        self. num_agents = NUM_AGENTS # Number of agents\n",
    "        self.M = M # Number of weeks to remember (memory)\n",
    "        self.N = N # Number of strategies per agent\n",
    "        self.THR = 60 # Occupancy threshold\n",
    "        \n",
    "        # Initialize random decision weights for all players\n",
    "        self.weight_mat = np.random.default_rng().uniform(-1, 1, (self.num_agents, self.N, self.M + 1))\n",
    "        \n",
    "        # Initialize M random instances of weeks of attendance\n",
    "        self.A_M = np.random.randint(0, self.num_agents-1, self.M)\n",
    "        \n",
    "#         # Initialize an array of indices for optimum strategies\n",
    "#         self.S_star_ind = np.zeros(self.num_agents, dtype=int)\n",
    "        \n",
    "        # Initialize the current time step's attendance: \n",
    "        A_t = np.random.randint(0, self.num_agents-1)\n",
    "        \n",
    "    def make_decision(self, w_vec, A_vec, A_t):\n",
    "        # Decision making for one person:\n",
    "        # w_vec: [N x M+1], A_vec: [M x 1]\n",
    "        assert w_vec.shape[1]-1 == A_vec.shape[0]\n",
    "        S = np.zeros((self.N, 1))\n",
    "        E = np.zeros((self.N, 1))\n",
    "        for i in range(len(w_vec)):\n",
    "            S[i] = 100 * (np.dot(w_vec[i,:-1], A_vec)) + w_vec[i,-1]\n",
    "#             print(S[i].item().shape)\n",
    "            E[i] = np.sum(np.abs(S[i].item() - np.append(A_t, A_vec)))\n",
    "        \n",
    "        # Select the strategy with the smallest error:\n",
    "        s_ind = np.argmin(E)\n",
    "        \n",
    "        # Make Decision:\n",
    "        if S[s_ind] <= self.THR:\n",
    "            d = 1 # GO\n",
    "        else:\n",
    "            d = 0 # DON'T GO\n",
    "            \n",
    "        return S, E, d\n",
    "        \n",
    "    def step(self, n = 200):\n",
    "        pass\n",
    "        "
   ]
  },
  {
   "cell_type": "code",
   "execution_count": 72,
   "metadata": {},
   "outputs": [
    {
     "data": {
      "text/plain": [
       "array([ 0.63, -0.37, -1.37, -2.37, -3.37, -4.37])"
      ]
     },
     "execution_count": 72,
     "metadata": {},
     "output_type": "execute_result"
    }
   ],
   "source": [
    "# x = np.array((1,2,3,4))\n",
    "# y = np.array((5,6))\n",
    "1.63 - np.append(x,y)"
   ]
  },
  {
   "cell_type": "code",
   "execution_count": 73,
   "metadata": {},
   "outputs": [],
   "source": [
    "env = El_Farol_env()"
   ]
  },
  {
   "cell_type": "code",
   "execution_count": 75,
   "metadata": {},
   "outputs": [],
   "source": [
    "w_vec = np.squeeze(env.weight_mat[1, :, :])\n",
    "A_vec = env.A_M\n",
    "A_t = 44\n",
    "# print(w_vec.shape)\n",
    "# print(A_vec.shape)\n",
    "# print(w_vec[1,:-1])\n",
    "# s1 = (np.dot(w_vec[1,:-1], A_vec)) + w_vec[1,-1]\n",
    "# print(s1)\n",
    "# print(env.A_M.shape)\n",
    "# print(A_vec)\n",
    "ss, ee = env.make_decision(w_vec=w_vec, A_vec=A_vec, A_t=A_t)"
   ]
  },
  {
   "cell_type": "code",
   "execution_count": 79,
   "metadata": {},
   "outputs": [
    {
     "data": {
      "text/plain": [
       "array([[ -6338.07950451],\n",
       "       [-16032.79709578],\n",
       "       [ -3384.80140973],\n",
       "       [  -515.54721662],\n",
       "       [ -7230.46056523],\n",
       "       [ -6477.94171959],\n",
       "       [ 17546.98919318],\n",
       "       [  5374.9541724 ],\n",
       "       [  2413.43798114],\n",
       "       [ -4851.68268448]])"
      ]
     },
     "execution_count": 79,
     "metadata": {},
     "output_type": "execute_result"
    }
   ],
   "source": [
    "ss"
   ]
  },
  {
   "cell_type": "code",
   "execution_count": null,
   "metadata": {},
   "outputs": [],
   "source": [
    "env = El_Farol_env()"
   ]
  },
  {
   "cell_type": "code",
   "execution_count": 39,
   "metadata": {},
   "outputs": [
    {
     "ename": "TypeError",
     "evalue": "make_decision() missing 1 required positional argument: 'A_t'",
     "output_type": "error",
     "traceback": [
      "\u001b[1;31m---------------------------------------------------------------------------\u001b[0m",
      "\u001b[1;31mTypeError\u001b[0m                                 Traceback (most recent call last)",
      "\u001b[1;32m<ipython-input-39-1005cd1b7be0>\u001b[0m in \u001b[0;36m<module>\u001b[1;34m\u001b[0m\n\u001b[0;32m      1\u001b[0m \u001b[0ma_test\u001b[0m \u001b[1;33m=\u001b[0m \u001b[0mnp\u001b[0m\u001b[1;33m.\u001b[0m\u001b[0marray\u001b[0m\u001b[1;33m(\u001b[0m\u001b[1;33m(\u001b[0m\u001b[1;36m1\u001b[0m\u001b[1;33m,\u001b[0m\u001b[1;36m2\u001b[0m\u001b[1;33m)\u001b[0m\u001b[1;33m)\u001b[0m\u001b[1;33m\u001b[0m\u001b[1;33m\u001b[0m\u001b[0m\n\u001b[0;32m      2\u001b[0m \u001b[0mw_test\u001b[0m \u001b[1;33m=\u001b[0m \u001b[0ma_test\u001b[0m\u001b[1;33m\u001b[0m\u001b[1;33m\u001b[0m\u001b[0m\n\u001b[1;32m----> 3\u001b[1;33m \u001b[0mS\u001b[0m\u001b[1;33m,\u001b[0m \u001b[0mE\u001b[0m \u001b[1;33m=\u001b[0m \u001b[0menv\u001b[0m\u001b[1;33m.\u001b[0m\u001b[0mmake_decision\u001b[0m\u001b[1;33m(\u001b[0m\u001b[0ma_test\u001b[0m\u001b[1;33m,\u001b[0m\u001b[0mw_test\u001b[0m\u001b[1;33m)\u001b[0m\u001b[1;33m\u001b[0m\u001b[1;33m\u001b[0m\u001b[0m\n\u001b[0m",
      "\u001b[1;31mTypeError\u001b[0m: make_decision() missing 1 required positional argument: 'A_t'"
     ]
    }
   ],
   "source": [
    "a_test = np.array((1,2))\n",
    "w_test = a_test\n",
    "\n",
    "S, E = env.make_decision(a_test,w_test, )"
   ]
  },
  {
   "cell_type": "code",
   "execution_count": null,
   "metadata": {},
   "outputs": [],
   "source": [
    "env.weight_mat.shape"
   ]
  },
  {
   "cell_type": "code",
   "execution_count": null,
   "metadata": {},
   "outputs": [],
   "source": [
    "np.random.randint(0,99,5)"
   ]
  },
  {
   "cell_type": "code",
   "execution_count": null,
   "metadata": {},
   "outputs": [],
   "source": []
  }
 ],
 "metadata": {
  "kernelspec": {
   "display_name": "Python [conda env:elfarol] *",
   "language": "python",
   "name": "conda-env-elfarol-py"
  },
  "language_info": {
   "codemirror_mode": {
    "name": "ipython",
    "version": 3
   },
   "file_extension": ".py",
   "mimetype": "text/x-python",
   "name": "python",
   "nbconvert_exporter": "python",
   "pygments_lexer": "ipython3",
   "version": "3.7.7"
  }
 },
 "nbformat": 4,
 "nbformat_minor": 4
}
