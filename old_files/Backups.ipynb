{
 "cells": [
  {
   "cell_type": "code",
   "execution_count": null,
   "metadata": {},
   "outputs": [],
   "source": [
    "def make_decision(self, w_vec, A_vec):\n",
    "        # Decision making for one agent:\n",
    "        # Inputs:\n",
    "        #       w_vec: [N x M+1] - Initialized weight vectors (and bias) for one agent's strategies \n",
    "        #       A_vec: [M x 1] - Attendance for the last M steps (Cirular buffer)\n",
    "        #       A_t: Scalar - Current times' attendance \n",
    "        S = np.zeros((self.N, 1))\n",
    "        E = np.zeros((self.N, 1))\n",
    "        for i in range(len(w_vec)):\n",
    "            S[i] = 100 * (np.dot(w_vec[i,:-1], A_vec)) + w_vec[i,-1]\n",
    "            E[i] = np.sum(np.abs(S[i].item() - A_vec)) # Errors in the previous rounds\n",
    "#             E[i] = np.sum(np.abs(S[i].item() - np.append(A_t, A_vec)))\n",
    "\n",
    "        # Select the strategy with the smallest error:\n",
    "        s_ind = np.argmin(E)\n",
    "        \n",
    "        # Make Decision:\n",
    "        if S[s_ind] <= self.THR:\n",
    "            d = 1 # GO\n",
    "        else:\n",
    "            d = 0 # DON'T GO\n",
    "        \n",
    "        \n",
    "        return s_ind, d #S, E, d"
   ]
  },
  {
   "cell_type": "code",
   "execution_count": null,
   "metadata": {},
   "outputs": [],
   "source": [
    "#     def make_decision(self, w_vec, A_vec, s_ind=None):\n",
    "#         '''\n",
    "#         # Decision making for one agent:\n",
    "#         # Inputs:\n",
    "#         #       w_vec: [N x M+1] - Initialized weight vectors (and bias) for one agent's strategies \n",
    "#         #       A_vec: [2M x 1] - Attendance for the last M steps (Cirular buffer)\n",
    "#         #       s_ind: Index {0,N} of the previous best decision strategy, if None, estimate based on memory\n",
    "#         # Outputs:\n",
    "#         #       d: [0, 1] ~ [DON'T GO, GO]\n",
    "#         #       S_guess: Scalar - Estimated number of attendees for current time step (mostly used for troubleshooting)\n",
    "#         '''\n",
    "        \n",
    "#         S = np.zeros(self.N)\n",
    "#         E = np.zeros(self.N)\n",
    "        \n",
    "#         if s_ind is None: # The first step\n",
    "#             for i in range(self.N):\n",
    "#                 S[i] = 100 * (np.dot(w_vec[i,:-1], A_vec) + w_vec[i,-1])\n",
    "#                 E[i] = (np.abs(S[i] - np.array(A_vec))).sum() # Errors in the previous rounds\n",
    "#             # Select the strategy with the smallest error:\n",
    "#             s_ind = np.argmin(E)\n",
    "#             S_guess = S[s_ind]\n",
    "#         else:\n",
    "#             S_guess = 100 * (np.dot(w_vec[s_ind,:-1], A_vec)) + w_vec[s_ind,-1]\n",
    "        \n",
    "#         # Make Decision:\n",
    "#         if S_guess <= self.THR: \n",
    "#             d = 1 # GO\n",
    "#         else: \n",
    "#             d = 0 # DON'T GO\n",
    "    \n",
    "#         return d, S_guess"
   ]
  }
 ],
 "metadata": {
  "kernelspec": {
   "display_name": "Python [conda env:elfarol] *",
   "language": "python",
   "name": "conda-env-elfarol-py"
  },
  "language_info": {
   "codemirror_mode": {
    "name": "ipython",
    "version": 3
   },
   "file_extension": ".py",
   "mimetype": "text/x-python",
   "name": "python",
   "nbconvert_exporter": "python",
   "pygments_lexer": "ipython3",
   "version": "3.7.7"
  }
 },
 "nbformat": 4,
 "nbformat_minor": 4
}
