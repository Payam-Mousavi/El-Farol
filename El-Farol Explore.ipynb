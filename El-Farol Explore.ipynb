{
 "cells": [
  {
   "cell_type": "code",
   "execution_count": 1,
   "metadata": {},
   "outputs": [],
   "source": [
    "import numpy as np\n",
    "import matplotlib.pyplot as plt\n",
    "import random\n",
    "import collections"
   ]
  },
  {
   "cell_type": "code",
   "execution_count": 2,
   "metadata": {},
   "outputs": [],
   "source": [
    "class El_Farol_env:\n",
    "    def __init__(self, NUM_AGENTS = 100, M = 5, N = 10, THR = 60, SEED=123):\n",
    "        np.random.seed(SEED)\n",
    "        self. num_agents = NUM_AGENTS # Number of agents\n",
    "        self.M = M # Number of weeks to remember (memory)\n",
    "        self.N = N # Number of strategies per agent\n",
    "        self.THR = 60 # Occupancy threshold\n",
    "        \n",
    "        # Initialize random decision weights for all players\n",
    "        self.weight_mat = np.random.uniform(-1, 1, (self.num_agents, self.N, self.M + 1))\n",
    "        \n",
    "        # Initialize M random instances of weeks of attendance\n",
    "#         self.A_M = np.random.randint(0, self.num_agents-1, self.M)\n",
    "        self.A_M = collections.deque(maxlen = self.M)\n",
    "        for i in range(self.M):\n",
    "            self.A_M.append(np.random.randint(0, self.num_agents-1))\n",
    "            \n",
    "#         # Initialize an array of indices for optimum strategies\n",
    "#         self.S_star_ind = np.zeros(self.num_agents, dtype=int)\n",
    "        \n",
    "        # Initialize the current time step's attendance: \n",
    "        self.A_t = np.random.randint(0, self.num_agents-1)\n",
    "        \n",
    "    def make_decision(self, w_vec, A_vec, A_t):\n",
    "        # Decision making for one agent:\n",
    "        # Inputs:\n",
    "        #       w_vec: [N x M+1] - Initialized weight vectors (and bias) for one agent's strategies \n",
    "        #       A_vec: [M x 1] - Attendance for the last M steps (Cirular buffer)\n",
    "#         assert w_vec.shape[1]-1 == A_vec.shape[0]\n",
    "        S = np.zeros((self.N, 1))\n",
    "        E = np.zeros((self.N, 1))\n",
    "        for i in range(len(w_vec)):\n",
    "            S[i] = 100 * (np.dot(w_vec[i,:-1], A_vec)) + w_vec[i,-1]\n",
    "            E[i] = np.sum(np.abs(S[i].item() - np.append(A_t, A_vec)))\n",
    "        \n",
    "        # Select the strategy with the smallest error:\n",
    "        s_ind = np.argmin(E)\n",
    "        \n",
    "        print(S)\n",
    "        # Make Decision:\n",
    "        if S[s_ind] <= self.THR:\n",
    "            d = 1 # GO\n",
    "        else:\n",
    "            d = 0 # DON'T GO\n",
    "            \n",
    "        return s_ind, d #S, E, d\n",
    "        \n",
    "    def take_steps(self, n = 200):\n",
    "        pass\n",
    "        "
   ]
  },
  {
   "cell_type": "code",
   "execution_count": 6,
   "metadata": {},
   "outputs": [
    {
     "name": "stdout",
     "output_type": "stream",
     "text": [
      "[[ 8491.54302392]\n",
      " [-8600.84676415]\n",
      " [-4635.6785385 ]\n",
      " [-1643.32047535]\n",
      " [-5623.6994939 ]\n",
      " [ 2717.87307027]\n",
      " [-6309.60388804]\n",
      " [  997.32144876]\n",
      " [-6789.95293497]\n",
      " [-5970.61440213]]\n",
      "7\n",
      "0\n"
     ]
    }
   ],
   "source": [
    "env = El_Farol_env()\n",
    "\n",
    "w_vec = np.squeeze(env.weight_mat[1, :, :])\n",
    "A_vec = env.A_M\n",
    "A_t = 44\n",
    "# print(w_vec.shape)\n",
    "# print(A_vec.shape)\n",
    "# print(w_vec[1,:-1])\n",
    "# s1 = (np.dot(w_vec[1,:-1], A_vec)) + w_vec[1,-1]\n",
    "# print(s1)\n",
    "# print(env.A_M.shape)\n",
    "# print(A_vec)\n",
    "s_ind, d = env.make_decision(w_vec=w_vec, A_vec=A_vec, A_t=A_t)\n",
    "print(s_ind)\n",
    "print(d)"
   ]
  },
  {
   "cell_type": "code",
   "execution_count": 4,
   "metadata": {},
   "outputs": [
    {
     "data": {
      "text/plain": [
       "37464"
      ]
     },
     "execution_count": 4,
     "metadata": {},
     "output_type": "execute_result"
    }
   ],
   "source": [
    "np.random.randint(0,40000)"
   ]
  },
  {
   "cell_type": "code",
   "execution_count": null,
   "metadata": {},
   "outputs": [],
   "source": []
  }
 ],
 "metadata": {
  "kernelspec": {
   "display_name": "Python [conda env:elfarol] *",
   "language": "python",
   "name": "conda-env-elfarol-py"
  },
  "language_info": {
   "codemirror_mode": {
    "name": "ipython",
    "version": 3
   },
   "file_extension": ".py",
   "mimetype": "text/x-python",
   "name": "python",
   "nbconvert_exporter": "python",
   "pygments_lexer": "ipython3",
   "version": "3.7.7"
  }
 },
 "nbformat": 4,
 "nbformat_minor": 4
}
